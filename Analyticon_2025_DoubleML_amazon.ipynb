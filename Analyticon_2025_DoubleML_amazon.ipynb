{
 "cells": [
  {
   "cell_type": "markdown",
   "id": "d15f1fd2-bd32-472b-9e18-d99c7e27c47c",
   "metadata": {},
   "source": [
    "# Double Machine Learning (DML) for Observational Studies"
   ]
  },
  {
   "cell_type": "markdown",
   "id": "e3f700c1-f05a-43a6-b9a1-bba007b5e8de",
   "metadata": {},
   "source": [
    "## Workshop Overview"
   ]
  },
  {
   "cell_type": "markdown",
   "id": "7d604fa2-57af-4421-967d-d53c25aac69b",
   "metadata": {},
   "source": [
    "In this workshop, we'll explore **Double Machine Learning (DML)**, a modern causal inference method that combines machine learning with econometric theory to estimate causal effects from observational data."
   ]
  },
  {
   "cell_type": "markdown",
   "id": "54439682-f421-4151-bfcb-1366a13de4d8",
   "metadata": {},
   "source": [
    "### What You'll Learn:\n",
    "1. **Why we need DML**: The challenges of causal inference with high-dimensional confounders\n",
    "2. **Core concepts**: Orthogonalization, cross-fitting, and Neyman orthogonality\n",
    "3. **Practical implementation**: Step-by-step DML using real education data\n",
    "4. **Interpretation**: Understanding and presenting your results"
   ]
  },
  {
   "cell_type": "markdown",
   "id": "e64ef8cc-a9dc-44fd-bd6d-26ef6d42d6ac",
   "metadata": {},
   "source": [
    "## 1. Introduction: Why Double Machine Learning?"
   ]
  },
  {
   "cell_type": "markdown",
   "id": "66b03913-673e-4ccc-b20c-9145a0ef8869",
   "metadata": {},
   "source": [
    "### The Fundamental Problem"
   ]
  },
  {
   "cell_type": "markdown",
   "id": "623f5b7f-4731-4fa8-94f6-f4bd3f9e4400",
   "metadata": {},
   "source": [
    "In observational studies, we want to estimate the causal effect of a treatment (D) on an outcome (Y), but we have many confounders (X) that affect both. "
   ]
  },
  {
   "cell_type": "markdown",
   "id": "36b515a3-fcbe-4e8d-b811-0830a9a968b4",
   "metadata": {},
   "source": [
    "**Traditional approaches struggle when:**\n",
    "- We have many confounders (high-dimensional X)\n",
    "- The relationships are non-linear\n",
    "- We want to use flexible ML methods but still get valid inference"
   ]
  },
  {
   "cell_type": "markdown",
   "id": "7c05918e-c2a6-4d78-ab17-0d4b5854aad3",
   "metadata": {},
   "source": [
    "**DML solves this by:**\n",
    "- Using ML to flexibly control for confounders\n",
    "- Maintaining valid statistical inference (confidence intervals, p-values)\n",
    "- Avoiding regularization bias through orthogonalization"
   ]
  },
  {
   "cell_type": "markdown",
   "id": "38ec155f-86f1-483b-877a-7d04fbac6e9d",
   "metadata": {},
   "source": [
    "## 2. The Prime Membership Dataset [Synthetic Data: Only for Illustration Purposes]\n",
    "\n",
    "We'll analyze the effect of a prime membership on 12 month spend of customers. This is a classic observational study where treatment wasn't randomly assigned.\n",
    "\n",
    "**Key Variables:**\n",
    "- **Outcome (Y)**: 12-month total spend (USD)\n",
    "- **Treatment (D)**: Prime membership (1=yes, 0=no)\n",
    "- **Confounders (X)**: Demographics, engagement, marketing and logistics preferences"
   ]
  },
  {
   "cell_type": "code",
   "execution_count": 3,
   "id": "348fa7d0-2756-4f3c-9db5-b9cfb1092a22",
   "metadata": {},
   "outputs": [],
   "source": [
    "# !uv pip install numpy pandas matplotlib doubleml seaborn scikit-learn"
   ]
  },
  {
   "cell_type": "code",
   "execution_count": 4,
   "id": "1de834b5-6bc5-4a67-beff-1b82b3a78dcd",
   "metadata": {},
   "outputs": [],
   "source": [
    "# %%\n",
    "# Import required libraries\n",
    "import numpy as np\n",
    "import pandas as pd\n",
    "import matplotlib.pyplot as plt\n",
    "import seaborn as sns\n",
    "from sklearn.model_selection import KFold\n",
    "from sklearn.ensemble import RandomForestRegressor, RandomForestClassifier\n",
    "from sklearn.linear_model import LinearRegression, LogisticRegression, LassoCV\n",
    "from sklearn.preprocessing import StandardScaler\n",
    "import warnings\n",
    "warnings.filterwarnings('ignore')"
   ]
  },
  {
   "cell_type": "code",
   "execution_count": 5,
   "id": "354046ff-9ccc-4f4a-935f-9f13ce7ac443",
   "metadata": {},
   "outputs": [],
   "source": [
    "# Set random seed for reproducibility\n",
    "np.random.seed(42)"
   ]
  },
  {
   "cell_type": "code",
   "execution_count": 6,
   "id": "3cf12ffe-9c3a-44c2-a345-d1aed91072ba",
   "metadata": {},
   "outputs": [],
   "source": [
    "# Configure visualization settings\n",
    "plt.style.use('seaborn-v0_8-darkgrid')\n",
    "sns.set_palette(\"husl\")"
   ]
  },
  {
   "cell_type": "code",
   "execution_count": 215,
   "id": "331b2942-4655-4941-833b-d05926e8981c",
   "metadata": {},
   "outputs": [
    {
     "name": "stdout",
     "output_type": "stream",
     "text": [
      "Amazon synthetic dataset created.\n",
      "Rows: 5,000 | Columns: 26\n",
      "Numeric columns: 26\n",
      "Treatment rate (Prime): 41.96%\n",
      "Outcome (12m spend) — mean: 1487.03 | std: 688.01\n"
     ]
    },
    {
     "data": {
      "text/html": [
       "<div>\n",
       "<style scoped>\n",
       "    .dataframe tbody tr th:only-of-type {\n",
       "        vertical-align: middle;\n",
       "    }\n",
       "\n",
       "    .dataframe tbody tr th {\n",
       "        vertical-align: top;\n",
       "    }\n",
       "\n",
       "    .dataframe thead th {\n",
       "        text-align: right;\n",
       "    }\n",
       "</style>\n",
       "<table border=\"1\" class=\"dataframe\">\n",
       "  <thead>\n",
       "    <tr style=\"text-align: right;\">\n",
       "      <th></th>\n",
       "      <th>outcome</th>\n",
       "      <th>treatment</th>\n",
       "      <th>age</th>\n",
       "      <th>income</th>\n",
       "      <th>household_size</th>\n",
       "      <th>has_kids</th>\n",
       "      <th>urban</th>\n",
       "      <th>region_midwest</th>\n",
       "      <th>region_south</th>\n",
       "      <th>region_west</th>\n",
       "      <th>...</th>\n",
       "      <th>recency_days</th>\n",
       "      <th>frequency_3m</th>\n",
       "      <th>wishlist_items</th>\n",
       "      <th>coupon_user</th>\n",
       "      <th>holiday_shopper</th>\n",
       "      <th>delivery_speed_pref</th>\n",
       "      <th>competitor_member</th>\n",
       "      <th>device_ios</th>\n",
       "      <th>device_android</th>\n",
       "      <th>tenure_months</th>\n",
       "    </tr>\n",
       "  </thead>\n",
       "  <tbody>\n",
       "    <tr>\n",
       "      <th>0</th>\n",
       "      <td>2342.894504</td>\n",
       "      <td>1</td>\n",
       "      <td>23</td>\n",
       "      <td>68716.874283</td>\n",
       "      <td>3</td>\n",
       "      <td>1</td>\n",
       "      <td>0</td>\n",
       "      <td>1</td>\n",
       "      <td>0</td>\n",
       "      <td>0</td>\n",
       "      <td>...</td>\n",
       "      <td>31</td>\n",
       "      <td>2</td>\n",
       "      <td>2</td>\n",
       "      <td>0</td>\n",
       "      <td>1</td>\n",
       "      <td>0</td>\n",
       "      <td>1</td>\n",
       "      <td>0</td>\n",
       "      <td>0</td>\n",
       "      <td>28.449212</td>\n",
       "    </tr>\n",
       "    <tr>\n",
       "      <th>1</th>\n",
       "      <td>796.122710</td>\n",
       "      <td>0</td>\n",
       "      <td>66</td>\n",
       "      <td>66257.545950</td>\n",
       "      <td>1</td>\n",
       "      <td>0</td>\n",
       "      <td>0</td>\n",
       "      <td>0</td>\n",
       "      <td>1</td>\n",
       "      <td>0</td>\n",
       "      <td>...</td>\n",
       "      <td>14</td>\n",
       "      <td>1</td>\n",
       "      <td>6</td>\n",
       "      <td>0</td>\n",
       "      <td>1</td>\n",
       "      <td>1</td>\n",
       "      <td>1</td>\n",
       "      <td>0</td>\n",
       "      <td>1</td>\n",
       "      <td>10.019053</td>\n",
       "    </tr>\n",
       "    <tr>\n",
       "      <th>2</th>\n",
       "      <td>2290.310586</td>\n",
       "      <td>1</td>\n",
       "      <td>59</td>\n",
       "      <td>103068.976147</td>\n",
       "      <td>4</td>\n",
       "      <td>1</td>\n",
       "      <td>0</td>\n",
       "      <td>0</td>\n",
       "      <td>0</td>\n",
       "      <td>0</td>\n",
       "      <td>...</td>\n",
       "      <td>36</td>\n",
       "      <td>1</td>\n",
       "      <td>3</td>\n",
       "      <td>0</td>\n",
       "      <td>1</td>\n",
       "      <td>1</td>\n",
       "      <td>0</td>\n",
       "      <td>0</td>\n",
       "      <td>1</td>\n",
       "      <td>32.683115</td>\n",
       "    </tr>\n",
       "    <tr>\n",
       "      <th>3</th>\n",
       "      <td>2108.583105</td>\n",
       "      <td>1</td>\n",
       "      <td>45</td>\n",
       "      <td>104573.125067</td>\n",
       "      <td>1</td>\n",
       "      <td>0</td>\n",
       "      <td>1</td>\n",
       "      <td>0</td>\n",
       "      <td>0</td>\n",
       "      <td>0</td>\n",
       "      <td>...</td>\n",
       "      <td>3</td>\n",
       "      <td>1</td>\n",
       "      <td>6</td>\n",
       "      <td>0</td>\n",
       "      <td>0</td>\n",
       "      <td>0</td>\n",
       "      <td>0</td>\n",
       "      <td>0</td>\n",
       "      <td>1</td>\n",
       "      <td>21.390057</td>\n",
       "    </tr>\n",
       "    <tr>\n",
       "      <th>4</th>\n",
       "      <td>770.851367</td>\n",
       "      <td>0</td>\n",
       "      <td>45</td>\n",
       "      <td>63947.385399</td>\n",
       "      <td>5</td>\n",
       "      <td>1</td>\n",
       "      <td>0</td>\n",
       "      <td>1</td>\n",
       "      <td>0</td>\n",
       "      <td>0</td>\n",
       "      <td>...</td>\n",
       "      <td>18</td>\n",
       "      <td>2</td>\n",
       "      <td>0</td>\n",
       "      <td>1</td>\n",
       "      <td>0</td>\n",
       "      <td>0</td>\n",
       "      <td>1</td>\n",
       "      <td>1</td>\n",
       "      <td>0</td>\n",
       "      <td>40.077469</td>\n",
       "    </tr>\n",
       "  </tbody>\n",
       "</table>\n",
       "<p>5 rows × 26 columns</p>\n",
       "</div>"
      ],
      "text/plain": [
       "       outcome  treatment  age         income  household_size  has_kids  \\\n",
       "0  2342.894504          1   23   68716.874283               3         1   \n",
       "1   796.122710          0   66   66257.545950               1         0   \n",
       "2  2290.310586          1   59  103068.976147               4         1   \n",
       "3  2108.583105          1   45  104573.125067               1         0   \n",
       "4   770.851367          0   45   63947.385399               5         1   \n",
       "\n",
       "   urban  region_midwest  region_south  region_west  ...  recency_days  \\\n",
       "0      0               1             0            0  ...            31   \n",
       "1      0               0             1            0  ...            14   \n",
       "2      0               0             0            0  ...            36   \n",
       "3      1               0             0            0  ...             3   \n",
       "4      0               1             0            0  ...            18   \n",
       "\n",
       "   frequency_3m  wishlist_items  coupon_user  holiday_shopper  \\\n",
       "0             2               2            0                1   \n",
       "1             1               6            0                1   \n",
       "2             1               3            0                1   \n",
       "3             1               6            0                0   \n",
       "4             2               0            1                0   \n",
       "\n",
       "   delivery_speed_pref  competitor_member  device_ios  device_android  \\\n",
       "0                    0                  1           0               0   \n",
       "1                    1                  1           0               1   \n",
       "2                    1                  0           0               1   \n",
       "3                    0                  0           0               1   \n",
       "4                    0                  1           1               0   \n",
       "\n",
       "   tenure_months  \n",
       "0      28.449212  \n",
       "1      10.019053  \n",
       "2      32.683115  \n",
       "3      21.390057  \n",
       "4      40.077469  \n",
       "\n",
       "[5 rows x 26 columns]"
      ]
     },
     "metadata": {},
     "output_type": "display_data"
    }
   ],
   "source": [
    "# This cell creates a synthetic Amazon retail dataset with:\n",
    "# - outcome: 12-month total spend (USD)\n",
    "# - treatment: Prime membership (1=yes, 0=no)\n",
    "# - 24 numeric confounders representing demographics, engagement, marketing and logistics preferences\n",
    "\n",
    "\n",
    "import numpy as np\n",
    "import pandas as pd\n",
    "\n",
    "rng = np.random.default_rng(42)\n",
    "n = 5000  # sample size\n",
    "\n",
    "# ----- Demographics -----\n",
    "age = rng.integers(18, 81, size=n)\n",
    "income = np.clip(rng.normal(80000, 30000, size=n), 15000, 250000)\n",
    "household_size = np.clip(rng.poisson(2, size=n) + 1, 1, 8)\n",
    "has_kids = (household_size >= 3).astype(int)\n",
    "urban = rng.integers(0, 2, size=n)\n",
    "\n",
    "# Regions (one-hot with Northeast as baseline)\n",
    "region = rng.integers(0, 4, size=n)  # 0=NE,1=Midwest,2=South,3=West\n",
    "region_midwest = (region == 1).astype(int)\n",
    "region_south = (region == 2).astype(int)\n",
    "region_west = (region == 3).astype(int)\n",
    "\n",
    "# ----- Engagement / Browsing behavior -----\n",
    "pages_viewed = np.clip(rng.normal(180, 60, size=n), 10, 600)\n",
    "app_opens = np.clip(rng.normal(60, 30, size=n), 0, 400)\n",
    "avg_session_minutes = np.clip(rng.normal(7, 3, size=n), 0.5, 45)\n",
    "\n",
    "email_click_rate = np.clip(rng.beta(2, 8, size=n), 0, 1)          # [0,1]\n",
    "ad_impressions = np.clip(rng.poisson(250, size=n), 0, 4000)\n",
    "ad_click_rate = np.clip(rng.beta(1.3, 12, size=n), 0, 1) * 0.25    # typically smaller numbers\n",
    "\n",
    "recency_days = rng.integers(1, 61, size=n)                         # days since last purchase\n",
    "frequency_3m = np.clip(rng.poisson(2.2, size=n), 0, 25)            # orders in last 3 months\n",
    "wishlist_items = np.clip(rng.poisson(3, size=n), 0, 60)\n",
    "\n",
    "# ----- Marketing / Preferences -----\n",
    "coupon_user = rng.integers(0, 2, size=n)\n",
    "holiday_shopper = rng.integers(0, 2, size=n)\n",
    "delivery_speed_pref = rng.integers(0, 2, size=n)  # 1=favors faster delivery\n",
    "competitor_member = rng.integers(0, 2, size=n)\n",
    "\n",
    "# Devices: web(0), iOS(1), Android(2) -> dummies (no raw strings; keep numeric)\n",
    "device = rng.integers(0, 3, size=n)\n",
    "device_ios = (device == 1).astype(int)\n",
    "device_android = (device == 2).astype(int)\n",
    "\n",
    "# Tenure (months since first purchase)\n",
    "tenure_months = np.clip((rng.gamma(shape=2.0, scale=12.0, size=n)), 0, 180)\n",
    "\n",
    "# ---------------- MODERATE OBSERVABLE CONFOUNDING (balanced) ----------------\n",
    "# Reuse existing arrays: income, pages_viewed, app_opens, frequency_3m, recency_days,\n",
    "# tenure_months, email_click_rate, ad_impressions, ad_click_rate, delivery_speed_pref,\n",
    "# urban, has_kids, competitor_member, region_* ; and rng, n already defined.\n",
    "\n",
    "# Standardize key continuous features for stable logits (no new columns added)\n",
    "z = lambda v: (v - v.mean()) / v.std()\n",
    "z_log_income = z(np.log(income))\n",
    "z_pages      = z(pages_viewed)\n",
    "z_app        = z(app_opens)\n",
    "z_freq       = z(frequency_3m)\n",
    "z_rec        = z(recency_days)          # larger is \"staler\"\n",
    "z_ten        = z(tenure_months)\n",
    "z_ecr        = z(email_click_rate)\n",
    "z_ad         = z(ad_impressions * (ad_click_rate + 0.02))\n",
    "\n",
    "# Knobs (reduced from the \"too strong\" setting)\n",
    "conf_k = 1.55   # how strongly X drives treatment (selection)\n",
    "base_k = 1.45   # how strongly X drives outcome (baseline spend)\n",
    "\n",
    "# ---- Treatment: Prime membership (tempered selection) ----\n",
    "logit_p = (\n",
    "    -0.55\n",
    "    + conf_k*( 0.60*z_log_income + 0.55*z_pages + 0.50*z_freq - 0.45*z_rec\n",
    "               + 0.35*z_ten + 0.30*z_ecr + 0.18*z_app + 0.12*z_ad )\n",
    "    + 0.30*delivery_speed_pref + 0.22*urban + 0.30*has_kids\n",
    "    - 0.80*competitor_member\n",
    "    + 0.05*(urban * delivery_speed_pref)\n",
    "    + rng.normal(0, 0.45, size=n)\n",
    ")\n",
    "p_treat  = 1 / (1 + np.exp(-logit_p))\n",
    "treatment = rng.binomial(1, np.clip(p_treat, 0.07, 0.93))  # keep healthy overlap\n",
    "\n",
    "# ---- Outcome: 12-month total spend (USD) (tempered baseline) ----\n",
    "tau  = 1000.0\n",
    "noise = rng.normal(0, 180, size=n)  # a touch more noise -> reduces \"too exact\" fits\n",
    "\n",
    "baseline = base_k * (\n",
    "      160*z_log_income\n",
    "    + 32*z_pages\n",
    "    + 26*z_app\n",
    "    + 68*z_freq\n",
    "    - 52*z_rec\n",
    "    + 36*z_ten\n",
    "    + 20*z_ecr\n",
    "    + 18*urban\n",
    "    + 30*delivery_speed_pref\n",
    "    + 30*has_kids\n",
    "    + 15*(urban * delivery_speed_pref)\n",
    "    + 10*z_ad\n",
    ")\n",
    "\n",
    "outcome = 1000 + baseline + tau*treatment + noise\n",
    "outcome = np.clip(outcome, 0, None)\n",
    "# Assemble DataFrame\n",
    "df = pd.DataFrame({\n",
    "    # Required by downstream code\n",
    "    \"outcome\": outcome.astype(float),\n",
    "    \"treatment\": treatment.astype(int),\n",
    "    # 24 Confounders (all numeric; no IDs or strings)\n",
    "    \"age\": age.astype(int),\n",
    "    \"income\": income.astype(float),\n",
    "    \"household_size\": household_size.astype(int),\n",
    "    \"has_kids\": has_kids.astype(int),\n",
    "    \"urban\": urban.astype(int),\n",
    "    \"region_midwest\": region_midwest.astype(int),\n",
    "    \"region_south\": region_south.astype(int),\n",
    "    \"region_west\": region_west.astype(int),\n",
    "    \"pages_viewed\": pages_viewed.astype(float),\n",
    "    \"app_opens\": app_opens.astype(float),\n",
    "    \"avg_session_minutes\": avg_session_minutes.astype(float),\n",
    "    \"email_click_rate\": email_click_rate.astype(float),\n",
    "    \"ad_impressions\": ad_impressions.astype(float),\n",
    "    \"ad_click_rate\": ad_click_rate.astype(float),\n",
    "    \"recency_days\": recency_days.astype(int),\n",
    "    \"frequency_3m\": frequency_3m.astype(int),\n",
    "    \"wishlist_items\": wishlist_items.astype(int),\n",
    "    \"coupon_user\": coupon_user.astype(int),\n",
    "    \"holiday_shopper\": holiday_shopper.astype(int),\n",
    "    \"delivery_speed_pref\": delivery_speed_pref.astype(int),\n",
    "    \"competitor_member\": competitor_member.astype(int),\n",
    "    \"device_ios\": device_ios.astype(int),\n",
    "    \"device_android\": device_android.astype(int),\n",
    "    \"tenure_months\": tenure_months.astype(float),\n",
    "})\n",
    "\n",
    "# Basic sanity checks & summary (mirrors original printouts)\n",
    "print(\"Amazon synthetic dataset created.\")\n",
    "print(f\"Rows: {len(df):,} | Columns: {df.shape[1]}\")\n",
    "print(\"Numeric columns:\", df.select_dtypes(include=['number']).shape[1])\n",
    "print(f\"Treatment rate (Prime): {df['treatment'].mean():.2%}\")\n",
    "print(\"Outcome (12m spend) — mean:\", df['outcome'].mean().round(2), \"| std:\", df['outcome'].std().round(2))\n",
    "\n",
    "# Peek at the first few rows\n",
    "display(df.head())\n"
   ]
  },
  {
   "cell_type": "code",
   "execution_count": 216,
   "id": "4c3a6814-7649-488e-9889-cc7ba4891606",
   "metadata": {},
   "outputs": [
    {
     "name": "stdout",
     "output_type": "stream",
     "text": [
      "\n",
      "First 5 observations:\n"
     ]
    },
    {
     "data": {
      "text/html": [
       "<div>\n",
       "<style scoped>\n",
       "    .dataframe tbody tr th:only-of-type {\n",
       "        vertical-align: middle;\n",
       "    }\n",
       "\n",
       "    .dataframe tbody tr th {\n",
       "        vertical-align: top;\n",
       "    }\n",
       "\n",
       "    .dataframe thead th {\n",
       "        text-align: right;\n",
       "    }\n",
       "</style>\n",
       "<table border=\"1\" class=\"dataframe\">\n",
       "  <thead>\n",
       "    <tr style=\"text-align: right;\">\n",
       "      <th></th>\n",
       "      <th>outcome</th>\n",
       "      <th>treatment</th>\n",
       "      <th>age</th>\n",
       "      <th>income</th>\n",
       "      <th>household_size</th>\n",
       "      <th>has_kids</th>\n",
       "      <th>urban</th>\n",
       "      <th>region_midwest</th>\n",
       "      <th>region_south</th>\n",
       "      <th>region_west</th>\n",
       "      <th>...</th>\n",
       "      <th>recency_days</th>\n",
       "      <th>frequency_3m</th>\n",
       "      <th>wishlist_items</th>\n",
       "      <th>coupon_user</th>\n",
       "      <th>holiday_shopper</th>\n",
       "      <th>delivery_speed_pref</th>\n",
       "      <th>competitor_member</th>\n",
       "      <th>device_ios</th>\n",
       "      <th>device_android</th>\n",
       "      <th>tenure_months</th>\n",
       "    </tr>\n",
       "  </thead>\n",
       "  <tbody>\n",
       "    <tr>\n",
       "      <th>0</th>\n",
       "      <td>2342.894504</td>\n",
       "      <td>1</td>\n",
       "      <td>23</td>\n",
       "      <td>68716.874283</td>\n",
       "      <td>3</td>\n",
       "      <td>1</td>\n",
       "      <td>0</td>\n",
       "      <td>1</td>\n",
       "      <td>0</td>\n",
       "      <td>0</td>\n",
       "      <td>...</td>\n",
       "      <td>31</td>\n",
       "      <td>2</td>\n",
       "      <td>2</td>\n",
       "      <td>0</td>\n",
       "      <td>1</td>\n",
       "      <td>0</td>\n",
       "      <td>1</td>\n",
       "      <td>0</td>\n",
       "      <td>0</td>\n",
       "      <td>28.449212</td>\n",
       "    </tr>\n",
       "    <tr>\n",
       "      <th>1</th>\n",
       "      <td>796.122710</td>\n",
       "      <td>0</td>\n",
       "      <td>66</td>\n",
       "      <td>66257.545950</td>\n",
       "      <td>1</td>\n",
       "      <td>0</td>\n",
       "      <td>0</td>\n",
       "      <td>0</td>\n",
       "      <td>1</td>\n",
       "      <td>0</td>\n",
       "      <td>...</td>\n",
       "      <td>14</td>\n",
       "      <td>1</td>\n",
       "      <td>6</td>\n",
       "      <td>0</td>\n",
       "      <td>1</td>\n",
       "      <td>1</td>\n",
       "      <td>1</td>\n",
       "      <td>0</td>\n",
       "      <td>1</td>\n",
       "      <td>10.019053</td>\n",
       "    </tr>\n",
       "    <tr>\n",
       "      <th>2</th>\n",
       "      <td>2290.310586</td>\n",
       "      <td>1</td>\n",
       "      <td>59</td>\n",
       "      <td>103068.976147</td>\n",
       "      <td>4</td>\n",
       "      <td>1</td>\n",
       "      <td>0</td>\n",
       "      <td>0</td>\n",
       "      <td>0</td>\n",
       "      <td>0</td>\n",
       "      <td>...</td>\n",
       "      <td>36</td>\n",
       "      <td>1</td>\n",
       "      <td>3</td>\n",
       "      <td>0</td>\n",
       "      <td>1</td>\n",
       "      <td>1</td>\n",
       "      <td>0</td>\n",
       "      <td>0</td>\n",
       "      <td>1</td>\n",
       "      <td>32.683115</td>\n",
       "    </tr>\n",
       "    <tr>\n",
       "      <th>3</th>\n",
       "      <td>2108.583105</td>\n",
       "      <td>1</td>\n",
       "      <td>45</td>\n",
       "      <td>104573.125067</td>\n",
       "      <td>1</td>\n",
       "      <td>0</td>\n",
       "      <td>1</td>\n",
       "      <td>0</td>\n",
       "      <td>0</td>\n",
       "      <td>0</td>\n",
       "      <td>...</td>\n",
       "      <td>3</td>\n",
       "      <td>1</td>\n",
       "      <td>6</td>\n",
       "      <td>0</td>\n",
       "      <td>0</td>\n",
       "      <td>0</td>\n",
       "      <td>0</td>\n",
       "      <td>0</td>\n",
       "      <td>1</td>\n",
       "      <td>21.390057</td>\n",
       "    </tr>\n",
       "    <tr>\n",
       "      <th>4</th>\n",
       "      <td>770.851367</td>\n",
       "      <td>0</td>\n",
       "      <td>45</td>\n",
       "      <td>63947.385399</td>\n",
       "      <td>5</td>\n",
       "      <td>1</td>\n",
       "      <td>0</td>\n",
       "      <td>1</td>\n",
       "      <td>0</td>\n",
       "      <td>0</td>\n",
       "      <td>...</td>\n",
       "      <td>18</td>\n",
       "      <td>2</td>\n",
       "      <td>0</td>\n",
       "      <td>1</td>\n",
       "      <td>0</td>\n",
       "      <td>0</td>\n",
       "      <td>1</td>\n",
       "      <td>1</td>\n",
       "      <td>0</td>\n",
       "      <td>40.077469</td>\n",
       "    </tr>\n",
       "  </tbody>\n",
       "</table>\n",
       "<p>5 rows × 26 columns</p>\n",
       "</div>"
      ],
      "text/plain": [
       "       outcome  treatment  age         income  household_size  has_kids  \\\n",
       "0  2342.894504          1   23   68716.874283               3         1   \n",
       "1   796.122710          0   66   66257.545950               1         0   \n",
       "2  2290.310586          1   59  103068.976147               4         1   \n",
       "3  2108.583105          1   45  104573.125067               1         0   \n",
       "4   770.851367          0   45   63947.385399               5         1   \n",
       "\n",
       "   urban  region_midwest  region_south  region_west  ...  recency_days  \\\n",
       "0      0               1             0            0  ...            31   \n",
       "1      0               0             1            0  ...            14   \n",
       "2      0               0             0            0  ...            36   \n",
       "3      1               0             0            0  ...             3   \n",
       "4      0               1             0            0  ...            18   \n",
       "\n",
       "   frequency_3m  wishlist_items  coupon_user  holiday_shopper  \\\n",
       "0             2               2            0                1   \n",
       "1             1               6            0                1   \n",
       "2             1               3            0                1   \n",
       "3             1               6            0                0   \n",
       "4             2               0            1                0   \n",
       "\n",
       "   delivery_speed_pref  competitor_member  device_ios  device_android  \\\n",
       "0                    0                  1           0               0   \n",
       "1                    1                  1           0               1   \n",
       "2                    1                  0           0               1   \n",
       "3                    0                  0           0               1   \n",
       "4                    0                  1           1               0   \n",
       "\n",
       "   tenure_months  \n",
       "0      28.449212  \n",
       "1      10.019053  \n",
       "2      32.683115  \n",
       "3      21.390057  \n",
       "4      40.077469  \n",
       "\n",
       "[5 rows x 26 columns]"
      ]
     },
     "execution_count": 216,
     "metadata": {},
     "output_type": "execute_result"
    }
   ],
   "source": [
    "# Show first few rows\n",
    "print(\"\\nFirst 5 observations:\")\n",
    "df.head()"
   ]
  },
  {
   "cell_type": "code",
   "execution_count": 217,
   "id": "60583370-2c74-45e8-aad5-d4ae748ea648",
   "metadata": {},
   "outputs": [],
   "source": [
    "# Define variable groups for better organization\n",
    "outcome_var = 'outcome'  # Years of education\n",
    "treatment_var = 'treatment'  # College prep program participation"
   ]
  },
  {
   "cell_type": "code",
   "execution_count": 218,
   "id": "1db10a90-a06e-4545-8f84-f05e2f2022c8",
   "metadata": {},
   "outputs": [],
   "source": [
    "# All other variables are potential confounders\n",
    "confounder_vars = [col for col in df.columns if col not in [outcome_var, treatment_var]]"
   ]
  },
  {
   "cell_type": "code",
   "execution_count": 219,
   "id": "9e8fc93c-ffe4-4ba4-a295-861f37836f80",
   "metadata": {},
   "outputs": [
    {
     "name": "stdout",
     "output_type": "stream",
     "text": [
      "Variable Categories:\n",
      "==================================================\n",
      "Outcome Variable: outcome\n",
      "Treatment Variable: treatment\n",
      "\n",
      "Confounding Variables (24 total):\n",
      "------------------------------\n"
     ]
    }
   ],
   "source": [
    "print(\"Variable Categories:\")\n",
    "print(\"=\" * 50)\n",
    "print(f\"Outcome Variable: {outcome_var}\")\n",
    "print(f\"Treatment Variable: {treatment_var}\")\n",
    "print(f\"\\nConfounding Variables ({len(confounder_vars)} total):\")\n",
    "print(\"-\" * 30)"
   ]
  },
  {
   "cell_type": "code",
   "execution_count": 220,
   "id": "4d37e755-f3d3-48a8-b053-e7c96ae05579",
   "metadata": {},
   "outputs": [],
   "source": [
    "# Categorize confounders (Amazon synthetic)\n",
    "demographic_vars = ['age']\n",
    "family_vars = ['household_size', 'has_kids']\n",
    "economic_vars = ['income', 'competitor_member']\n",
    "# Repurposed: engagement/behavior + tenure (kept name for minimal downstream changes)\n",
    "behavior_vars = [\n",
    "    'pages_viewed', 'app_opens', 'avg_session_minutes',\n",
    "    'email_click_rate', 'ad_impressions', 'ad_click_rate',\n",
    "    'recency_days', 'frequency_3m', 'wishlist_items',\n",
    "    'coupon_user', 'holiday_shopper', 'delivery_speed_pref',\n",
    "    'device_ios', 'device_android',\n",
    "    'tenure_months'\n",
    "]\n",
    "\n",
    "geographic_vars = ['urban', 'region_midwest', 'region_south', 'region_west']\n"
   ]
  },
  {
   "cell_type": "code",
   "execution_count": 221,
   "id": "29853f65-d570-44a4-a8d9-e13872348c96",
   "metadata": {},
   "outputs": [
    {
     "name": "stdout",
     "output_type": "stream",
     "text": [
      "Demographics: ['age']\n",
      "Family Education: ['household_size', 'has_kids']...\n",
      "Economic: ['income', 'competitor_member']\n",
      "Academic: ['pages_viewed', 'app_opens', 'avg_session_minutes', 'email_click_rate', 'ad_impressions', 'ad_click_rate', 'recency_days', 'frequency_3m', 'wishlist_items', 'coupon_user', 'holiday_shopper', 'delivery_speed_pref', 'device_ios', 'device_android', 'tenure_months']\n",
      "Geographic: ['urban', 'region_midwest', 'region_south', 'region_west']\n"
     ]
    }
   ],
   "source": [
    "print(f\"Demographics: {demographic_vars}\")\n",
    "print(f\"Family Education: {family_vars[:6]}...\")  \n",
    "print(f\"Economic: {economic_vars}\")\n",
    "print(f\"Academic: {behavior_vars}\")\n",
    "print(f\"Geographic: {geographic_vars}\")"
   ]
  },
  {
   "cell_type": "markdown",
   "id": "83a36c50-75f0-471c-804a-14ffe5837d43",
   "metadata": {},
   "source": [
    "### Visualizing Key Relationships\n",
    "\n",
    "Before applying DML, let's understand the basic relationships in our data:"
   ]
  },
  {
   "cell_type": "code",
   "execution_count": 222,
   "id": "3e29fcdb-b060-4a91-a39b-067169ad7df1",
   "metadata": {},
   "outputs": [
    {
     "data": {
      "image/png": "[encoded data removed]",
      "text/plain": [
       "<Figure size 1500x500 with 3 Axes>"
      ]
     },
     "metadata": {},
     "output_type": "display_data"
    }
   ],
   "source": [
    "fig, axes = plt.subplots(1, 3, figsize=(15, 5))\n",
    "\n",
    "# 1) Outcome by treatment (unchanged columns)\n",
    "axes[0].boxplot(\n",
    "    [df[df['treatment'] == 0]['outcome'],\n",
    "     df[df['treatment'] == 1]['outcome']],\n",
    "    labels=['Control', 'Treated']\n",
    ")\n",
    "axes[0].set_ylabel('12-month total spend (USD)')\n",
    "axes[0].set_title('Prime Membership')\n",
    "axes[0].grid(True, alpha=0.3)\n",
    "\n",
    "# 2) Engagement confounder by treatment (replace pretest -> pages_viewed)\n",
    "axes[1].boxplot(\n",
    "    [df[df['treatment'] == 0]['pages_viewed'],\n",
    "     df[df['treatment'] == 1]['pages_viewed']],\n",
    "    labels=['Control', 'Treated']\n",
    ")\n",
    "axes[1].set_ylabel('Pages Viewed')\n",
    "axes[1].set_title('Selection into Treatment\\n(Engagement: Pages Viewed)')\n",
    "axes[1].grid(True, alpha=0.3)\n",
    "\n",
    "# 3) Income by treatment (replace fincome -> income)\n",
    "axes[2].boxplot(\n",
    "    [df[df['treatment'] == 0]['income'],\n",
    "     df[df['treatment'] == 1]['income']],\n",
    "    labels=['Control', 'Treated']\n",
    ")\n",
    "axes[2].set_ylabel('Income (USD)')\n",
    "axes[2].set_title('Selection into Treatment\\n(Income)')\n",
    "axes[2].grid(True, alpha=0.3)\n",
    "\n",
    "plt.tight_layout()\n",
    "plt.show()\n"
   ]
  },
  {
   "cell_type": "code",
   "execution_count": 223,
   "id": "a8c51450-b6b4-4912-a523-d52a7831fde5",
   "metadata": {},
   "outputs": [
    {
     "name": "stdout",
     "output_type": "stream",
     "text": [
      "\n",
      "Naive Treatment Effect (simple difference in means): 1248.259 USD\n",
      "Note: This is likely biased due to confounding!\n"
     ]
    }
   ],
   "source": [
    "# Calculate naive difference\n",
    "naive_effect = df[df['treatment']==1]['outcome'].mean() - df[df['treatment']==0]['outcome'].mean()\n",
    "print(f\"\\nNaive Treatment Effect (simple difference in means): {naive_effect:.3f} USD\")\n",
    "print(\"Note: This is likely biased due to confounding!\")"
   ]
  },
  {
   "cell_type": "markdown",
   "id": "79bfdd8a-3898-43ef-8845-884d955ce7d5",
   "metadata": {},
   "source": [
    "## 4. The Double Machine Learning Framework\n",
    "\n",
    "### The Key Insight\n",
    "\n",
    "DML estimates the treatment effect using a two-step procedure:\n",
    "\n",
    "1. **First Stage**: Use ML to predict:\n",
    "   - The outcome Y from confounders X (getting $\\hat{Y}$)\n",
    "   - The treatment D from confounders X (getting $\\hat{D}$)\n",
    "\n",
    "2. **Second Stage**: Regress the residuals:\n",
    "   - $(Y - \\hat{Y})$ on $(D - \\hat{D})$\n",
    "   \n",
    "This \"orthogonalizes\" or \"partials out\" the confounders, isolating the treatment effect.\n",
    "\n",
    "### Why \"Double\"?\n",
    "- We use ML twice (for Y and D)\n",
    "- We use cross-fitting to avoid overfitting bias\n",
    "\n"
   ]
  },
  {
   "cell_type": "markdown",
   "id": "69bb5801-f135-4529-98c8-2d9a8cc0c4ce",
   "metadata": {},
   "source": [
    "## 5. Implementing DML Step-by-Step\n",
    "\n",
    "Let's implement DML with clear explanations at each step:"
   ]
  },
  {
   "cell_type": "markdown",
   "id": "9668ce52-3722-42e4-a518-9b93350a7efb",
   "metadata": {},
   "source": [
    "### Step 1: Prepare the Data"
   ]
  },
  {
   "cell_type": "code",
   "execution_count": 224,
   "id": "4faf7a52-cb7f-4b37-89d4-334ef9a65a2e",
   "metadata": {},
   "outputs": [],
   "source": [
    "# Prepare our data arrays\n",
    "X = df[confounder_vars].values  # Confounders\n",
    "D = df[treatment_var].values    # Treatment\n",
    "Y = df[outcome_var].values      # Outcome"
   ]
  },
  {
   "cell_type": "code",
   "execution_count": 225,
   "id": "974b840c-4b9c-4152-80ae-00d0fb00babd",
   "metadata": {},
   "outputs": [
    {
     "name": "stdout",
     "output_type": "stream",
     "text": [
      "Data prepared:\n",
      "  X shape: (5000, 24) (confounders)\n",
      "  D shape: (5000,) (treatment)\n",
      "  Y shape: (5000,) (outcome)\n"
     ]
    }
   ],
   "source": [
    "# Standardize the features (helps ML models perform better)\n",
    "scaler = StandardScaler()\n",
    "X_scaled = scaler.fit_transform(X)\n",
    "\n",
    "print(\"Data prepared:\")\n",
    "print(f\"  X shape: {X.shape} (confounders)\")\n",
    "print(f\"  D shape: {D.shape} (treatment)\")\n",
    "print(f\"  Y shape: {Y.shape} (outcome)\")"
   ]
  },
  {
   "cell_type": "markdown",
   "id": "04216b54-5fdf-47ce-9e8f-f94a9852644f",
   "metadata": {},
   "source": [
    "### Step 2: Set Up Cross-Fitting\n",
    "\n",
    "Cross-fitting is crucial for DML. We'll split our data into 5 folds and use out-of-sample predictions to avoid overfitting:"
   ]
  },
  {
   "cell_type": "code",
   "execution_count": 226,
   "id": "8b182623-7140-44b8-b43a-3987abee017d",
   "metadata": {},
   "outputs": [
    {
     "name": "stdout",
     "output_type": "stream",
     "text": [
      "Cross-fitting setup:\n",
      "  Number of folds: 5\n",
      "  Samples per fold: ~1000\n",
      "\n",
      "This ensures we always use out-of-sample predictions!\n"
     ]
    }
   ],
   "source": [
    "# Set up cross-fitting with 5 folds\n",
    "n_folds = 5\n",
    "n_samples = len(Y)\n",
    "\n",
    "# Initialize arrays to store residuals\n",
    "residuals_Y = np.zeros(n_samples)  # Will store Y - predicted_Y\n",
    "residuals_D = np.zeros(n_samples)  # Will store D - predicted_D\n",
    "\n",
    "# Create fold indices for cross-fitting\n",
    "kfold = KFold(n_splits=n_folds, shuffle=True, random_state=42)\n",
    "\n",
    "print(f\"Cross-fitting setup:\")\n",
    "print(f\"  Number of folds: {n_folds}\")\n",
    "print(f\"  Samples per fold: ~{n_samples // n_folds}\")\n",
    "print(f\"\\nThis ensures we always use out-of-sample predictions!\")"
   ]
  },
  {
   "cell_type": "markdown",
   "id": "d76590df-f3b9-4533-b706-13634b2f7bd1",
   "metadata": {},
   "source": [
    "<!-- # %% [markdown]\n",
    "# ### Step 3: Cross-Fitting Loop - The Heart of DML\n",
    "# \n",
    "# For each fold, we'll:\n",
    "# 1. Train ML models on 4 folds\n",
    "# 2. Predict on the remaining fold (out-of-sample)\n",
    "# 3. Calculate residuals\n",
    "\n",
    "# %% -->"
   ]
  },
  {
   "cell_type": "markdown",
   "id": "30f230ef-4ee7-4273-9c9c-5c4e18d5f1d2",
   "metadata": {},
   "source": [
    "### Step 3: Cross-Fitting Loop - The Heart of DML\n",
    "\n",
    "For each fold, we'll:\n",
    "1. Train ML models on 4 folds\n",
    "2. Predict on the remaining fold (out-of-sample)\n",
    "3. Calculate residuals\n"
   ]
  },
  {
   "cell_type": "code",
   "execution_count": 227,
   "id": "2b1ec5c4-95ef-4c50-bfcb-56b11d243a2b",
   "metadata": {},
   "outputs": [
    {
     "name": "stdout",
     "output_type": "stream",
     "text": [
      "\n",
      "Fold 1/5:\n",
      "  Training on 4000 samples\n",
      "  Testing on 1000 samples\n",
      "  ✓ Y model trained and predicted\n",
      "  ✓ D model trained and predicted\n",
      "\n",
      "Fold 2/5:\n",
      "  Training on 4000 samples\n",
      "  Testing on 1000 samples\n",
      "  ✓ Y model trained and predicted\n",
      "  ✓ D model trained and predicted\n",
      "\n",
      "Fold 3/5:\n",
      "  Training on 4000 samples\n",
      "  Testing on 1000 samples\n",
      "  ✓ Y model trained and predicted\n",
      "  ✓ D model trained and predicted\n",
      "\n",
      "Fold 4/5:\n",
      "  Training on 4000 samples\n",
      "  Testing on 1000 samples\n",
      "  ✓ Y model trained and predicted\n",
      "  ✓ D model trained and predicted\n",
      "\n",
      "Fold 5/5:\n",
      "  Training on 4000 samples\n",
      "  Testing on 1000 samples\n",
      "  ✓ Y model trained and predicted\n",
      "  ✓ D model trained and predicted\n",
      "\n",
      "==================================================\n",
      "Cross-fitting complete! All residuals computed.\n"
     ]
    }
   ],
   "source": [
    "for fold_num, (train_indices, test_indices) in enumerate(kfold.split(X_scaled), 1):\n",
    "    \n",
    "    print(f\"\\nFold {fold_num}/{n_folds}:\")\n",
    "    \n",
    "    # Split data for this fold\n",
    "    X_train = X_scaled[train_indices]\n",
    "    X_test = X_scaled[test_indices]\n",
    "    D_train = D[train_indices]\n",
    "    D_test = D[test_indices]\n",
    "    Y_train = Y[train_indices]\n",
    "    Y_test = Y[test_indices]\n",
    "    \n",
    "    print(f\"  Training on {len(train_indices)} samples\")\n",
    "    print(f\"  Testing on {len(test_indices)} samples\")\n",
    "    \n",
    "    # --- Model 1: Predict Y from X ---\n",
    "    # Using Random Forest for flexibility\n",
    "    model_Y = RandomForestRegressor(\n",
    "        n_estimators=100,\n",
    "        max_depth=5,\n",
    "        min_samples_leaf=10,\n",
    "        random_state=42\n",
    "    )\n",
    "    \n",
    "    # Train and predict\n",
    "    model_Y.fit(X_train, Y_train)\n",
    "    Y_predictions = model_Y.predict(X_test)\n",
    "    \n",
    "    # Calculate residuals for Y (out-of-sample)\n",
    "    residuals_Y[test_indices] = Y_test - Y_predictions\n",
    "    \n",
    "    print(f\"  ✓ Y model trained and predicted\")\n",
    "    \n",
    "    # --- Model 2: Predict D from X ---\n",
    "    # Using Random Forest Classifier since D is binary\n",
    "    model_D = RandomForestClassifier(\n",
    "        n_estimators=100,\n",
    "        max_depth=5,\n",
    "        min_samples_leaf=10,\n",
    "        random_state=42\n",
    "    )\n",
    "    \n",
    "    # Train and predict (get probability of treatment)\n",
    "    model_D.fit(X_train, D_train)\n",
    "    D_predictions = model_D.predict_proba(X_test)[:, 1]  # Probability of D=1\n",
    "    \n",
    "    # Calculate residuals for D (out-of-sample)\n",
    "    residuals_D[test_indices] = D_test - D_predictions\n",
    "    \n",
    "    print(f\"  ✓ D model trained and predicted\")\n",
    "\n",
    "print(\"\\n\" + \"=\" * 50)\n",
    "print(\"Cross-fitting complete! All residuals computed.\")"
   ]
  },
  {
   "cell_type": "markdown",
   "id": "00c249fa-f7bb-4ce0-8810-7a356a50176b",
   "metadata": {},
   "source": [
    "### Step 4: Estimate the Treatment Effect from Residuals\n",
    "\n",
    "Now we have:\n",
    "- **residuals_Y**: The part of Y not explained by X\n",
    "- **residuals_D**: The part of D not explained by X\n",
    "\n",
    "The treatment effect is the relationship between these residuals:\n"
   ]
  },
  {
   "cell_type": "markdown",
   "id": "80c68bf2-09dc-4ea4-addd-e3d9aec3cc08",
   "metadata": {},
   "source": [
    "**Calculate the Average Treatment Effect (ATE)**\n",
    "\n",
    "This is the coefficient from regressing residuals_Y on residuals_D"
   ]
  },
  {
   "cell_type": "code",
   "execution_count": 228,
   "id": "54a0650d-b4c7-4458-83f2-03d069f7dfb0",
   "metadata": {},
   "outputs": [],
   "source": [
    "# Method 1: Using the formula directly\n",
    "numerator = np.sum(residuals_D * residuals_Y)\n",
    "denominator = np.sum(residuals_D ** 2)\n",
    "ate_dml = numerator / denominator"
   ]
  },
  {
   "cell_type": "code",
   "execution_count": 229,
   "id": "1889f280-01ec-4290-84a8-8442546e6d06",
   "metadata": {},
   "outputs": [
    {
     "name": "stdout",
     "output_type": "stream",
     "text": [
      "Treatment Effect Estimation:\n",
      "==================================================\n",
      "Numerator (covariance):   1029280.5817\n",
      "Denominator (variance):   1004.1343\n",
      "\n",
      "Average Treatment Effect: 1025.0428 USD\n"
     ]
    }
   ],
   "source": [
    "print(\"Treatment Effect Estimation:\")\n",
    "print(\"=\" * 50)\n",
    "print(f\"Numerator (covariance):   {numerator:.4f}\")\n",
    "print(f\"Denominator (variance):   {denominator:.4f}\")\n",
    "print(f\"\\nAverage Treatment Effect: {ate_dml:.4f} USD\")"
   ]
  },
  {
   "cell_type": "code",
   "execution_count": 230,
   "id": "5e0c40d7-222e-4f13-b406-41c9b95d730e",
   "metadata": {},
   "outputs": [],
   "source": [
    "# Method 2: Verify using linear regression (should give same result)\n",
    "from sklearn.linear_model import LinearRegression\n",
    "final_model = LinearRegression(fit_intercept=False)\n",
    "final_model.fit(residuals_D.reshape(-1, 1), residuals_Y)\n",
    "ate_verify = final_model.coef_[0]"
   ]
  },
  {
   "cell_type": "code",
   "execution_count": 231,
   "id": "f2b41a32-6af2-4e2d-b5cb-f67e83202eb4",
   "metadata": {},
   "outputs": [
    {
     "name": "stdout",
     "output_type": "stream",
     "text": [
      "Verification (via regression): 1025.0428 USD\n",
      "\n",
      "✓ Both methods give the same result!\n"
     ]
    }
   ],
   "source": [
    "print(f\"Verification (via regression): {ate_verify:.4f} USD\")\n",
    "print(\"\\n✓ Both methods give the same result!\")"
   ]
  },
  {
   "cell_type": "markdown",
   "id": "06dc8859-663f-4e2d-abe8-134782c975ea",
   "metadata": {},
   "source": [
    "### Step 5: Calculate Standard Errors for Statistical Inference\n",
    "\n",
    "To know if our effect is statistically significant, we need standard errors:\n"
   ]
  },
  {
   "cell_type": "code",
   "execution_count": 232,
   "id": "388bca13-5bf5-46f5-a15e-f2b6b34d6ad2",
   "metadata": {},
   "outputs": [
    {
     "name": "stdout",
     "output_type": "stream",
     "text": [
      "Statistical Inference:\n",
      "==================================================\n",
      "Standard Error:          7.4119\n",
      "95% Confidence Interval: [1010.5154, 1039.5701]\n",
      "t-statistic:            138.2966\n",
      "p-value:                0.0000\n"
     ]
    }
   ],
   "source": [
    "# Calculate standard errors\n",
    "n = len(residuals_Y)\n",
    "\n",
    "# Residual variance from the final regression\n",
    "final_residuals = residuals_Y - ate_dml * residuals_D\n",
    "sigma_squared = np.sum(final_residuals ** 2) / (n - 1)\n",
    "\n",
    "# Standard error of ATE\n",
    "se_ate = np.sqrt(sigma_squared / np.sum(residuals_D ** 2))\n",
    "\n",
    "# Calculate confidence interval\n",
    "ci_lower = ate_dml - 1.96 * se_ate\n",
    "ci_upper = ate_dml + 1.96 * se_ate\n",
    "\n",
    "# Calculate t-statistic\n",
    "t_statistic = ate_dml / se_ate\n",
    "\n",
    "# Calculate p-value correctly using the t-distribution\n",
    "from scipy import stats\n",
    "# Degrees of freedom = n - 1 (we're estimating one parameter)\n",
    "degrees_of_freedom = n - 1\n",
    "# Two-tailed p-value\n",
    "p_value = 2 * (1 - stats.t.cdf(abs(t_statistic), degrees_of_freedom))\n",
    "\n",
    "print(\"Statistical Inference:\")\n",
    "print(\"=\" * 50)\n",
    "print(f\"Standard Error:          {se_ate:.4f}\")\n",
    "print(f\"95% Confidence Interval: [{ci_lower:.4f}, {ci_upper:.4f}]\")\n",
    "print(f\"t-statistic:            {t_statistic:.4f}\")\n",
    "print(f\"p-value:                {p_value:.4f}\")"
   ]
  },
  {
   "cell_type": "code",
   "execution_count": 233,
   "id": "2fbc7fbc-0019-4d28-80ab-50637bc3f2fa",
   "metadata": {},
   "outputs": [
    {
     "name": "stdout",
     "output_type": "stream",
     "text": [
      "\n",
      "✓ The effect is statistically significant at 5% level!\n"
     ]
    }
   ],
   "source": [
    "if abs(t_statistic) > 1.96:\n",
    "    print(\"\\n✓ The effect is statistically significant at 5% level!\")\n",
    "else:\n",
    "    print(\"\\n✗ The effect is not statistically significant at 5% level\")"
   ]
  },
  {
   "cell_type": "markdown",
   "id": "86f99461-802c-4e20-827f-eee788b023dd",
   "metadata": {},
   "source": [
    "### Step 6: Visualize the Orthogonalized Relationship"
   ]
  },
  {
   "cell_type": "code",
   "execution_count": 234,
   "id": "2a3b32da-2382-45b7-9598-82e28982ace6",
   "metadata": {},
   "outputs": [
    {
     "data": {
      "image/png": "[encoded data removed]",
      "text/plain": [
       "<Figure size 1400x600 with 2 Axes>"
      ]
     },
     "metadata": {},
     "output_type": "display_data"
    }
   ],
   "source": [
    "# Visualize the residuals and their relationship\n",
    "fig, axes = plt.subplots(1, 2, figsize=(14, 6))\n",
    "\n",
    "# Plot 1: Scatter of residuals\n",
    "axes[0].scatter(residuals_D, residuals_Y, alpha=0.5, s=10)\n",
    "axes[0].axhline(y=0, color='gray', linestyle='-', alpha=0.3)\n",
    "axes[0].axvline(x=0, color='gray', linestyle='-', alpha=0.3)\n",
    "\n",
    "# Add regression line\n",
    "x_line = np.linspace(residuals_D.min(), residuals_D.max(), 100)\n",
    "y_line = ate_dml * x_line\n",
    "axes[0].plot(x_line, y_line, 'r-', linewidth=2, \n",
    "             label=f'Slope (ATE) = {ate_dml:.3f}')\n",
    "\n",
    "axes[0].set_xlabel('Treatment Residuals (D - E[D|X])')\n",
    "axes[0].set_ylabel('Outcome Residuals (Y - E[Y|X])')\n",
    "axes[0].set_title('DML: Orthogonalized Relationship')\n",
    "axes[0].legend()\n",
    "axes[0].grid(True, alpha=0.3)\n",
    "\n",
    "# Plot 2: Distribution of residuals\n",
    "axes[1].hist(residuals_Y[residuals_D > 0], bins=30, alpha=0.5, \n",
    "             label='Treated (D=1)', density=True, color='orange')\n",
    "axes[1].hist(residuals_Y[residuals_D < 0], bins=30, alpha=0.5, \n",
    "             label='Control (D=0)', density=True, color='blue')\n",
    "axes[1].set_xlabel('Outcome Residuals')\n",
    "axes[1].set_ylabel('Density')\n",
    "axes[1].set_title('Distribution of Outcome Residuals by Treatment')\n",
    "axes[1].legend()\n",
    "axes[1].grid(True, alpha=0.3)\n",
    "\n",
    "plt.tight_layout()\n",
    "plt.show()"
   ]
  },
  {
   "cell_type": "markdown",
   "id": "1ce7741a-d8a7-4dec-9756-e0e646c989da",
   "metadata": {},
   "source": [
    "## 6. Compare Different ML Methods\n",
    "\n",
    "Let's see how robust our results are by trying different ML algorithms:"
   ]
  },
  {
   "cell_type": "markdown",
   "id": "109a4fc1-4f65-4f3f-ab2a-4c2ecb2d919e",
   "metadata": {},
   "source": [
    "### Using LASSO (Linear with Regularization)"
   ]
  },
  {
   "cell_type": "code",
   "execution_count": 235,
   "id": "eec516ae-7448-49ad-92e7-effadf22e9f7",
   "metadata": {},
   "outputs": [
    {
     "name": "stdout",
     "output_type": "stream",
     "text": [
      "Running DML with LASSO...\n",
      "==================================================\n",
      "  Fold 1 completed\n",
      "  Fold 2 completed\n",
      "  Fold 3 completed\n",
      "  Fold 4 completed\n",
      "  Fold 5 completed\n",
      "\n",
      "LASSO Results:\n",
      "  ATE: 1016.5490 (SE: 6.8245)\n",
      "  95% CI: [1003.1730, 1029.9251]\n"
     ]
    }
   ],
   "source": [
    "# Reset residuals for LASSO\n",
    "residuals_Y_lasso = np.zeros(n_samples)\n",
    "residuals_D_lasso = np.zeros(n_samples)\n",
    "\n",
    "print(\"Running DML with LASSO...\")\n",
    "print(\"=\" * 50)\n",
    "\n",
    "for fold_num, (train_indices, test_indices) in enumerate(kfold.split(X_scaled), 1):\n",
    "    \n",
    "    # Split data\n",
    "    X_train, X_test = X_scaled[train_indices], X_scaled[test_indices]\n",
    "    D_train, D_test = D[train_indices], D[test_indices]\n",
    "    Y_train, Y_test = Y[train_indices], Y[test_indices]\n",
    "    \n",
    "    # LASSO for Y\n",
    "    model_Y_lasso = LassoCV(cv=5, random_state=42)\n",
    "    model_Y_lasso.fit(X_train, Y_train)\n",
    "    Y_pred_lasso = model_Y_lasso.predict(X_test)\n",
    "    residuals_Y_lasso[test_indices] = Y_test - Y_pred_lasso\n",
    "    \n",
    "    # Logistic with L1 penalty for D\n",
    "    model_D_lasso = LogisticRegression(penalty='l1', solver='liblinear', C=1.0, random_state=42)\n",
    "    model_D_lasso.fit(X_train, D_train)\n",
    "    D_pred_lasso = model_D_lasso.predict_proba(X_test)[:, 1]\n",
    "    residuals_D_lasso[test_indices] = D_test - D_pred_lasso\n",
    "    \n",
    "    print(f\"  Fold {fold_num} completed\")\n",
    "\n",
    "# Calculate ATE for LASSO\n",
    "ate_lasso = np.sum(residuals_D_lasso * residuals_Y_lasso) / np.sum(residuals_D_lasso ** 2)\n",
    "\n",
    "# Standard error for LASSO\n",
    "final_residuals_lasso = residuals_Y_lasso - ate_lasso * residuals_D_lasso\n",
    "sigma_squared_lasso = np.sum(final_residuals_lasso ** 2) / (n - 1)\n",
    "se_lasso = np.sqrt(sigma_squared_lasso / np.sum(residuals_D_lasso ** 2))\n",
    "\n",
    "print(f\"\\nLASSO Results:\")\n",
    "print(f\"  ATE: {ate_lasso:.4f} (SE: {se_lasso:.4f})\")\n",
    "print(f\"  95% CI: [{ate_lasso - 1.96*se_lasso:.4f}, {ate_lasso + 1.96*se_lasso:.4f}]\")"
   ]
  },
  {
   "cell_type": "markdown",
   "id": "d8b62f40-a1ca-40c5-90b4-3c8a06a9c334",
   "metadata": {},
   "source": [
    "### Using Simple Linear Models (Baseline)"
   ]
  },
  {
   "cell_type": "code",
   "execution_count": 236,
   "id": "5f313bb7-c677-47b4-ad6e-48715b19ed40",
   "metadata": {},
   "outputs": [
    {
     "name": "stdout",
     "output_type": "stream",
     "text": [
      "Running DML with Linear Models...\n",
      "==================================================\n",
      "  Fold 1 completed\n",
      "  Fold 2 completed\n",
      "  Fold 3 completed\n",
      "  Fold 4 completed\n",
      "  Fold 5 completed\n",
      "\n",
      "Linear Model Results:\n",
      "  ATE: 1018.2442 (SE: 6.8007)\n",
      "  95% CI: [1004.9148, 1031.5736]\n"
     ]
    }
   ],
   "source": [
    "# Reset residuals for linear models\n",
    "residuals_Y_linear = np.zeros(n_samples)\n",
    "residuals_D_linear = np.zeros(n_samples)\n",
    "\n",
    "print(\"Running DML with Linear Models...\")\n",
    "print(\"=\" * 50)\n",
    "\n",
    "for fold_num, (train_indices, test_indices) in enumerate(kfold.split(X_scaled), 1):\n",
    "    \n",
    "    # Split data\n",
    "    X_train, X_test = X_scaled[train_indices], X_scaled[test_indices]\n",
    "    D_train, D_test = D[train_indices], D[test_indices]\n",
    "    Y_train, Y_test = Y[train_indices], Y[test_indices]\n",
    "    \n",
    "    # Linear regression for Y\n",
    "    model_Y_linear = LinearRegression()\n",
    "    model_Y_linear.fit(X_train, Y_train)\n",
    "    Y_pred_linear = model_Y_linear.predict(X_test)\n",
    "    residuals_Y_linear[test_indices] = Y_test - Y_pred_linear\n",
    "    \n",
    "    # Logistic regression for D\n",
    "    model_D_linear = LogisticRegression(random_state=42)\n",
    "    model_D_linear.fit(X_train, D_train)\n",
    "    D_pred_linear = model_D_linear.predict_proba(X_test)[:, 1]\n",
    "    residuals_D_linear[test_indices] = D_test - D_pred_linear\n",
    "    \n",
    "    print(f\"  Fold {fold_num} completed\")\n",
    "\n",
    "# Calculate ATE for linear models\n",
    "ate_linear = np.sum(residuals_D_linear * residuals_Y_linear) / np.sum(residuals_D_linear ** 2)\n",
    "\n",
    "# Standard error for linear\n",
    "final_residuals_linear = residuals_Y_linear - ate_linear * residuals_D_linear\n",
    "sigma_squared_linear = np.sum(final_residuals_linear ** 2) / (n - 1)\n",
    "se_linear = np.sqrt(sigma_squared_linear / np.sum(residuals_D_linear ** 2))\n",
    "\n",
    "print(f\"\\nLinear Model Results:\")\n",
    "print(f\"  ATE: {ate_linear:.4f} (SE: {se_linear:.4f})\")\n",
    "print(f\"  95% CI: [{ate_linear - 1.96*se_linear:.4f}, {ate_linear + 1.96*se_linear:.4f}]\")"
   ]
  },
  {
   "cell_type": "markdown",
   "id": "8fffd49a-44f6-433a-8c5c-552256f70c06",
   "metadata": {},
   "source": [
    "## 7. Compare All Results"
   ]
  },
  {
   "cell_type": "code",
   "execution_count": 237,
   "id": "bc27bc6a-eb9f-4cfe-b025-d597d12930bb",
   "metadata": {},
   "outputs": [
    {
     "name": "stdout",
     "output_type": "stream",
     "text": [
      "\n",
      "COMPARISON OF ALL METHODS\n",
      "======================================================================\n",
      "             Method  Treatment Effect  Standard Error  CI Lower  CI Upper\n",
      " Naive (No Control)         1248.2587             NaN       NaN       NaN\n",
      "DML (Random Forest)         1025.0428          7.4119 1010.5154 1039.5701\n",
      "        DML (LASSO)         1016.5490          6.8245 1003.1730 1029.9251\n",
      "       DML (Linear)         1018.2442          6.8007 1004.9148 1031.5736\n",
      "======================================================================\n"
     ]
    },
    {
     "data": {
      "image/png": "[encoded data removed]",
      "text/plain": [
       "<Figure size 1000x600 with 1 Axes>"
      ]
     },
     "metadata": {},
     "output_type": "display_data"
    }
   ],
   "source": [
    "results_comparison = pd.DataFrame({\n",
    "    'Method': ['Naive (No Control)', 'DML (Random Forest)', 'DML (LASSO)', 'DML (Linear)'],\n",
    "    'Treatment Effect': [naive_effect, ate_dml, ate_lasso, ate_linear],\n",
    "    'Standard Error': [np.nan, se_ate, se_lasso, se_linear],\n",
    "    'CI Lower': [np.nan, ci_lower, ate_lasso - 1.96*se_lasso, ate_linear - 1.96*se_linear],\n",
    "    'CI Upper': [np.nan, ci_upper, ate_lasso + 1.96*se_lasso, ate_linear + 1.96*se_linear]\n",
    "})\n",
    "\n",
    "print(\"\\nCOMPARISON OF ALL METHODS\")\n",
    "print(\"=\" * 70)\n",
    "print(results_comparison.round(4).to_string(index=False))\n",
    "print(\"=\" * 70)\n",
    "\n",
    "# Visualize comparison (zoom y-axis to the CI range around ~800)\n",
    "fig, ax = plt.subplots(figsize=(10, 6))\n",
    "\n",
    "methods = results_comparison['Method'].values[1:]   # exclude Naive for CI plotting\n",
    "effects = results_comparison['Treatment Effect'].values[1:]\n",
    "errors  = results_comparison['Standard Error'].values[1:]\n",
    "ci_low  = results_comparison['CI Lower'].values[1:]\n",
    "ci_high = results_comparison['CI Upper'].values[1:]\n",
    "\n",
    "x_pos = np.arange(len(methods))\n",
    "ax.errorbar(x_pos, effects, yerr=1.96*errors, fmt='o', capsize=5, capthick=2,\n",
    "            markersize=10, linewidth=2)\n",
    "\n",
    "# Reference lines\n",
    "ax.axhline(y=naive_effect, color='red', linestyle='--', alpha=0.5, \n",
    "           label=f'Naive Estimate: {naive_effect:.1f}')\n",
    "ax.axhline(y=tau, color='green', linestyle=':', alpha=0.6, label=f'True Effect (τ): {tau:.1f}')\n",
    "y_min = np.nanmin(np.concatenate([ci_low, [naive_effect]]))\n",
    "y_max = np.nanmax(np.concatenate([ci_high, [naive_effect]]))\n",
    "pad = max(10.0, 0.08 * (y_max - y_min if (y_max - y_min) > 0 else 100.0))\n",
    "ax.set_ylim(y_min - pad, y_max + pad)\n",
    "\n",
    "ax.set_xticks(x_pos)\n",
    "ax.set_xticklabels(methods, rotation=0)\n",
    "ax.set_ylabel('Average Treatment Effect (12-month spend, USD)')\n",
    "ax.set_title('DML Estimates with 95% Confidence Intervals — Prime → Annual Spend')\n",
    "ax.legend()\n",
    "ax.grid(True, alpha=0.3)\n",
    "\n",
    "plt.tight_layout()\n",
    "plt.show()\n"
   ]
  },
  {
   "cell_type": "markdown",
   "id": "36648f4c-0ac3-4053-8dd9-e2b1af2178eb",
   "metadata": {},
   "source": [
    "## 8. Interpretation of Results"
   ]
  },
  {
   "cell_type": "code",
   "execution_count": 238,
   "id": "f6f7cf86-1568-42f0-9fbd-7dec8a02ac15",
   "metadata": {},
   "outputs": [
    {
     "name": "stdout",
     "output_type": "stream",
     "text": [
      "======================================================================\n",
      "INTERPRETATION OF RESULTS\n",
      "======================================================================\n",
      "\n",
      "1. MAIN FINDING:\n",
      "   Prime membership changes 12-month customer spend by $1,025.04\n",
      "   95% Confidence Interval: [$1,010.52, $1,039.57]\n",
      "\n",
      "2. BIAS CORRECTION:\n",
      "   Naive estimate (no controls): $1,248.26\n",
      "   DML estimate (controls via ML): $1,025.04\n",
      "   Estimated selection bias: $223.22\n",
      "   → Substantial confounding was present in the naive estimate!\n",
      "\n",
      "3. STATISTICAL SIGNIFICANCE:\n",
      "   ✓ The effect IS statistically significant (t=138.30, p<0.05)\n",
      "\n",
      "4. PRACTICAL SIGNIFICANCE:\n",
      "   Effect size: 149.0% of one standard deviation of annual spend\n",
      "   → This represents a meaningful lift in annual customer spend.\n",
      "\n",
      "5. ROBUSTNESS:\n",
      "   ✓ Results are consistent across different ML learners (RF, LASSO, Linear).\n",
      "======================================================================\n"
     ]
    }
   ],
   "source": [
    "print(\"=\" * 70)\n",
    "print(\"INTERPRETATION OF RESULTS\")\n",
    "print(\"=\" * 70)\n",
    "\n",
    "# Use Random Forest results as primary (most flexible)\n",
    "primary_ate = ate_dml\n",
    "primary_se = se_ate\n",
    "primary_ci_lower = ci_lower\n",
    "primary_ci_upper = ci_upper\n",
    "\n",
    "print(\"\\n1. MAIN FINDING:\")\n",
    "print(f\"   Prime membership changes 12-month customer spend by ${primary_ate:,.2f}\")\n",
    "print(f\"   95% Confidence Interval: [${primary_ci_lower:,.2f}, ${primary_ci_upper:,.2f}]\")\n",
    "\n",
    "print(\"\\n2. BIAS CORRECTION:\")\n",
    "bias = naive_effect - primary_ate\n",
    "print(f\"   Naive estimate (no controls): ${naive_effect:,.2f}\")\n",
    "print(f\"   DML estimate (controls via ML): ${primary_ate:,.2f}\")\n",
    "print(f\"   Estimated selection bias: ${bias:,.2f}\")\n",
    "if abs(bias) > 0.1 * abs(primary_ate):\n",
    "    print(\"   → Substantial confounding was present in the naive estimate!\")\n",
    "else:\n",
    "    print(\"   → Limited confounding relative to the controlled estimate.\")\n",
    "\n",
    "print(\"\\n3. STATISTICAL SIGNIFICANCE:\")\n",
    "t_stat = primary_ate / primary_se\n",
    "if abs(t_stat) > 1.96:\n",
    "    print(f\"   ✓ The effect IS statistically significant (t={t_stat:.2f}, p<0.05)\")\n",
    "else:\n",
    "    print(f\"   ✗ The effect is NOT statistically significant (t={t_stat:.2f}, p>0.05)\")\n",
    "\n",
    "print(\"\\n4. PRACTICAL SIGNIFICANCE:\")\n",
    "effect_size_pct = (primary_ate / df['outcome'].std()) * 100\n",
    "print(f\"   Effect size: {effect_size_pct:.1f}% of one standard deviation of annual spend\")\n",
    "if abs(effect_size_pct) >= 20:\n",
    "    print(\"   → This represents a meaningful lift in annual customer spend.\")\n",
    "else:\n",
    "    print(\"   → This is a modest change in practical terms.\")\n",
    "\n",
    "print(\"\\n5. ROBUSTNESS:\")\n",
    "all_effects = [ate_dml, ate_lasso, ate_linear]\n",
    "range_effects = max(all_effects) - min(all_effects)\n",
    "if range_effects < 0.10 * abs(primary_ate):\n",
    "    print(\"   ✓ Results are consistent across different ML learners (RF, LASSO, Linear).\")\n",
    "else:\n",
    "    print(\"   ⚠ Results vary across learners—interpret with caution.\")\n",
    "\n",
    "print(\"=\" * 70)\n"
   ]
  },
  {
   "cell_type": "markdown",
   "id": "efb699c6-6385-408d-8321-60f7e3d639ec",
   "metadata": {},
   "source": [
    "## 9. Check Key Assumptions\n",
    "\n",
    "### Overlap Assumption\n",
    "We need treated and control units to be comparable (common support):"
   ]
  },
  {
   "cell_type": "code",
   "execution_count": 239,
   "id": "cb871db6-2511-440d-83e9-c93508c53d0d",
   "metadata": {},
   "outputs": [
    {
     "name": "stdout",
     "output_type": "stream",
     "text": [
      "Checking Overlap Assumption...\n",
      "==================================================\n"
     ]
    },
    {
     "data": {
      "image/png": "[encoded data removed]",
      "text/plain": [
       "<Figure size 1400x500 with 2 Axes>"
      ]
     },
     "metadata": {},
     "output_type": "display_data"
    }
   ],
   "source": [
    "# Estimate propensity scores (probability of treatment given X)\n",
    "from sklearn.ensemble import RandomForestClassifier\n",
    "\n",
    "print(\"Checking Overlap Assumption...\")\n",
    "print(\"=\" * 50)\n",
    "\n",
    "# Fit propensity score model\n",
    "ps_model = RandomForestClassifier(n_estimators=100, max_depth=5, random_state=42)\n",
    "ps_model.fit(X_scaled, D)\n",
    "propensity_scores = ps_model.predict_proba(X_scaled)[:, 1]\n",
    "\n",
    "# Visualize overlap\n",
    "fig, axes = plt.subplots(1, 2, figsize=(14, 5))\n",
    "\n",
    "# Histogram of propensity scores\n",
    "axes[0].hist(propensity_scores[D==0], bins=30, alpha=0.5, label='Control', density=True)\n",
    "axes[0].hist(propensity_scores[D==1], bins=30, alpha=0.5, label='Treated', density=True)\n",
    "axes[0].set_xlabel('Propensity Score (P(Treatment|X))')\n",
    "axes[0].set_ylabel('Density')\n",
    "axes[0].set_title('Distribution of Propensity Scores')\n",
    "axes[0].legend()\n",
    "axes[0].grid(True, alpha=0.3)\n",
    "\n",
    "# Box plot comparison\n",
    "axes[1].boxplot([propensity_scores[D==0], propensity_scores[D==1]], \n",
    "                labels=['Control', 'Treated'])\n",
    "axes[1].set_ylabel('Propensity Score')\n",
    "axes[1].set_title('Propensity Score by Treatment Group')\n",
    "axes[1].grid(True, alpha=0.3)\n",
    "\n",
    "plt.tight_layout()\n",
    "plt.show()\n"
   ]
  },
  {
   "cell_type": "code",
   "execution_count": 240,
   "id": "55d132e2-6149-4967-a86f-a5b7e9d8d7ad",
   "metadata": {},
   "outputs": [
    {
     "name": "stdout",
     "output_type": "stream",
     "text": [
      "\n",
      "Overlap Statistics:\n",
      "  Min propensity score: 0.156\n",
      "  Max propensity score: 0.760\n",
      "  % with good overlap (0.1 < P < 0.9): 100.0%\n",
      "\n",
      "✓ Good overlap - comparison is valid!\n"
     ]
    }
   ],
   "source": [
    "# Check common support\n",
    "common_support_region = (propensity_scores > 0.1) & (propensity_scores < 0.9)\n",
    "pct_common_support = common_support_region.mean() * 100\n",
    "\n",
    "print(f\"\\nOverlap Statistics:\")\n",
    "print(f\"  Min propensity score: {propensity_scores.min():.3f}\")\n",
    "print(f\"  Max propensity score: {propensity_scores.max():.3f}\")\n",
    "print(f\"  % with good overlap (0.1 < P < 0.9): {pct_common_support:.1f}%\")\n",
    "\n",
    "if pct_common_support > 80:\n",
    "    print(\"\\n✓ Good overlap - comparison is valid!\")\n",
    "else:\n",
    "    print(\"\\n⚠ Limited overlap - results may be less reliable\")"
   ]
  },
  {
   "cell_type": "markdown",
   "id": "edeeb7ae-44a4-4be8-8787-612c0b1ff2dc",
   "metadata": {},
   "source": [
    "## 10. Using Existing Libraries: DoubleML Package\n",
    "\n",
    "While it's important to understand the mechanics of DML (as we've done above), in practice you can use established libraries that handle all the details for you.\n",
    "\n",
    "The **DoubleML** package is the official Python implementation by the original DML authors.\n"
   ]
  },
  {
   "cell_type": "code",
   "execution_count": 241,
   "id": "3fbeb8b8-cbc8-4e5b-9b31-51b12335fb04",
   "metadata": {},
   "outputs": [],
   "source": [
    "# !pip install doubleml"
   ]
  },
  {
   "cell_type": "code",
   "execution_count": 242,
   "id": "f3c11091-f150-4ec1-8153-9ecc3052830f",
   "metadata": {},
   "outputs": [],
   "source": [
    "import doubleml as dml\n",
    "from doubleml import DoubleMLPLR"
   ]
  },
  {
   "cell_type": "code",
   "execution_count": 243,
   "id": "b9a223c2-7898-478a-8a3b-45b1e296de37",
   "metadata": {},
   "outputs": [],
   "source": [
    "dml_data = dml.DoubleMLData(\n",
    "        df,\n",
    "        y_col='outcome',\n",
    "        d_cols=['treatment'],\n",
    "        x_cols=confounder_vars\n",
    "    )"
   ]
  },
  {
   "cell_type": "code",
   "execution_count": 244,
   "id": "ef2f885a-46bb-418e-8857-1e6c1e79b029",
   "metadata": {},
   "outputs": [],
   "source": [
    "ml_l = RandomForestRegressor(n_estimators=100, max_depth=5, random_state=42)  # For outcome\n",
    "ml_m = RandomForestClassifier(n_estimators=100, max_depth=5, random_state=42)  # For treatment"
   ]
  },
  {
   "cell_type": "code",
   "execution_count": 245,
   "id": "ff78bc90-e4db-4fb9-b911-42954fce3501",
   "metadata": {},
   "outputs": [],
   "source": [
    "# Initialize the Double ML model\n",
    "dml_plr = DoubleMLPLR(\n",
    "        dml_data,\n",
    "        ml_l=ml_l,\n",
    "        ml_m=ml_m,\n",
    "        n_folds=5,\n",
    "        score='partialling out',  # The standard DML approach\n",
    "        )"
   ]
  },
  {
   "cell_type": "code",
   "execution_count": 246,
   "id": "2e05b740-774d-481a-95dc-350503fb8b9d",
   "metadata": {},
   "outputs": [
    {
     "name": "stdout",
     "output_type": "stream",
     "text": [
      "Fitting DoubleML model...\n"
     ]
    },
    {
     "data": {
      "text/plain": [
       "<doubleml.plm.plr.DoubleMLPLR at 0x1a289c46480>"
      ]
     },
     "execution_count": 246,
     "metadata": {},
     "output_type": "execute_result"
    }
   ],
   "source": [
    "print(\"Fitting DoubleML model...\")\n",
    "dml_plr.fit()"
   ]
  },
  {
   "cell_type": "code",
   "execution_count": 247,
   "id": "01c41e84-be5f-48d9-b038-ecbf03a28bf5",
   "metadata": {},
   "outputs": [
    {
     "name": "stdout",
     "output_type": "stream",
     "text": [
      "\n",
      "============================================================\n",
      "DOUBLEML PACKAGE RESULTS:\n",
      "============================================================\n",
      "                  coef   std err           t  P>|t|       2.5 %       97.5 %\n",
      "treatment  1028.477164  7.577259  135.732094    0.0  1013.62601  1043.328318\n"
     ]
    }
   ],
   "source": [
    "print(\"\\n\" + \"=\"*60)\n",
    "print(\"DOUBLEML PACKAGE RESULTS:\")\n",
    "print(\"=\"*60)\n",
    "print(dml_plr.summary)"
   ]
  },
  {
   "cell_type": "code",
   "execution_count": 248,
   "id": "f895145f-faa8-45ac-8b54-85d35106b667",
   "metadata": {},
   "outputs": [
    {
     "name": "stdout",
     "output_type": "stream",
     "text": [
      "\n",
      "============================================================\n",
      "COMPARISON: Manual vs Package Implementation\n",
      "============================================================\n",
      "                     Manual DML    DoubleML Package\n",
      "                     ----------    ----------------\n",
      "ATE Estimate:        1025.0428      1028.4772\n",
      "Standard Error:        7.4119        7.5773\n",
      "95% CI Lower:        1010.5154      1013.6260\n",
      "95% CI Upper:        1039.5701      1043.3283\n",
      "P-value:               0.0000        0.0000\n",
      "============================================================\n"
     ]
    }
   ],
   "source": [
    "# Extract values for comparison\n",
    "package_ate = dml_plr.coef[0]\n",
    "package_se = dml_plr.se[0]\n",
    "package_pval = dml_plr.pval[0]\n",
    "package_ci = dml_plr.confint()\n",
    "\n",
    "print(\"\\n\" + \"=\"*60)\n",
    "print(\"COMPARISON: Manual vs Package Implementation\")\n",
    "print(\"=\"*60)\n",
    "print(f\"                     Manual DML    DoubleML Package\")\n",
    "print(f\"                     ----------    ----------------\")\n",
    "print(f\"ATE Estimate:        {ate_dml:8.4f}      {package_ate:8.4f}\")\n",
    "print(f\"Standard Error:      {se_ate:8.4f}      {package_se:8.4f}\")\n",
    "print(f\"95% CI Lower:        {ci_lower:8.4f}      {package_ci.iloc[0,0]:8.4f}\")\n",
    "print(f\"95% CI Upper:        {ci_upper:8.4f}      {package_ci.iloc[0,1]:8.4f}\")\n",
    "print(f\"P-value:             {p_value:8.4f}      {package_pval:8.4f}\")\n",
    "print(\"=\"*60)"
   ]
  },
  {
   "cell_type": "markdown",
   "id": "578379f3-1ee1-44f4-8825-f79f1820f4e1",
   "metadata": {},
   "source": [
    "### Advantages of Using the DoubleML Package\n",
    "\n",
    "The professional implementation offers several benefits:\n",
    "\n",
    "1. **Validated Implementation**: Tested and maintained by the original authors\n",
    "2. **Additional Features**: Bootstrap CIs, multiple treatments, sensitivity analysis\n",
    "3. **Convenience**: Handles all the details automatically\n",
    "4. **Speed**: Optimized implementation\n",
    "5. **Documentation**: Extensive guides and examples\n",
    "\n",
    "However, understanding the manual implementation (as we did above) is crucial for:\n",
    "- Knowing what's happening \"under the hood\"\n",
    "- Debugging when things go wrong\n",
    "- Customizing for special cases\n",
    "- Building intuition about the method"
   ]
  },
  {
   "cell_type": "markdown",
   "id": "c715ba3c-c923-4783-8c38-7cf353b2bc4e",
   "metadata": {},
   "source": [
    "## 11. Pros and Cons of Double Machine Learning"
   ]
  },
  {
   "cell_type": "markdown",
   "id": "5344640d-3d69-474d-bfd0-66c65db8eab6",
   "metadata": {},
   "source": [
    "### Advantages of DML:\n",
    "\n",
    "1. FLEXIBILITY WITH ML METHODS  \n",
    "   - Use any ML algorithm (RF, XGBoost, Neural Networks, etc.)  \n",
    "   - Automatically handles non-linearities and interactions  \n",
    "   - No need to specify functional forms\n",
    "     \n",
    "\n",
    "2. VALID STATISTICAL INFERENCE  \n",
    "   - Provides correct standard errors and p-values  \n",
    "   - Enables hypothesis testing despite using ML  \n",
    "   - Confidence intervals have proper coverage  \n",
    "\n",
    "\n",
    "3. HANDLES HIGH-DIMENSIONAL DATA  \n",
    "   - Works with many confounders (p >> n scenarios)  \n",
    "   - Automatic feature selection via regularization  \n",
    "   - Reduces overfitting through cross-fitting  \n",
    "\n",
    "\n",
    "4. ROBUST TO MODEL MISSPECIFICATION  \n",
    "   - Less sensitive to wrong functional form assumptions  \n",
    "   - Double robustness property in some cases  \n",
    "   - Consistent under weaker conditions than OLS  \n",
    "\n",
    "\n",
    "5. REDUCES REGULARIZATION BIAS  \n",
    "   - Orthogonalization removes bias from ML regularization  \n",
    "   - Neyman orthogonality ensures sqrt(n)-consistency  \n",
    "   - Cross-fitting prevents overfitting bias  \n",
    "\n",
    "---\n",
    "\n",
    "### Limitations and Considerations:\n",
    "\n",
    "1. SAMPLE SIZE REQUIREMENTS  \n",
    "   - Needs relatively large samples (ideally n > 1000)  \n",
    "   - Cross-fitting reduces effective sample size  \n",
    "   - May be unstable with small samples  \n",
    "\n",
    "\n",
    "2. COMPUTATIONAL COST  \n",
    "   - More computationally intensive than OLS  \n",
    "   - Requires fitting multiple ML models  \n",
    "   - Cross-fitting multiplies computation time  \n",
    "\n",
    "\n",
    "3. STILL REQUIRES KEY ASSUMPTIONS  \n",
    "   - Unconfoundedness: All confounders must be measured  \n",
    "   - Overlap: Treatment and control groups must be comparable  \n",
    "   - SUTVA: No interference between units  \n",
    "   - Cannot handle unobserved confounding  \n",
    "\n",
    "\n",
    "4. MODEL SELECTION CHALLENGES  \n",
    "   - Results can vary with ML method choice  \n",
    "   - Hyperparameter tuning adds complexity  \n",
    "   - No universal best ML approach  \n",
    "\n",
    "\n",
    "5. INTERPRETABILITY  \n",
    "   - Black-box ML models reduce interpretability  \n",
    "   - Cannot easily see which variables matter most  \n",
    "   - Harder to diagnose problems than with linear models  \n",
    "\n",
    "\n",
    "6. LIMITED TO SPECIFIC PARAMETERS  \n",
    "   - Primarily designed for average effects  \n",
    "   - Extensions needed for other causal parameters  \n",
    "   - Not all causal questions fit the DML framework\n"
   ]
  },
  {
   "cell_type": "markdown",
   "id": "12f27821-fe7e-4e63-b94c-45296afe9ad1",
   "metadata": {},
   "source": [
    "## 13. Resources for Further Learning\n",
    "\n",
    "### Python Libraries for Causal ML\n",
    "\n",
    "1. **DoubleML (Official DML Implementation)**\n",
    "   - Install: `pip install doubleml`\n",
    "   - Docs: https://docs.doubleml.org\n",
    "   - Features: DML, GATE, ATE, sensitivity analysis\n",
    "\n",
    "2. **EconML (Microsoft)**\n",
    "   - Install: `pip install econml`\n",
    "   - Docs: https://econml.azurewebsites.net/\n",
    "   - Features: DML, Causal Forests, Meta-learners, IV methods\n",
    "\n",
    "3. **CausalML (Uber)**\n",
    "   - Install: `pip install causalml`\n",
    "   - Docs: https://causalml.readthedocs.io/\n",
    "   - Features: Uplift modeling, Meta-learners, Tree-based methods\n",
    "\n",
    "4. **DoWhy (Microsoft/PyWhy)**\n",
    "   - Install: `pip install dowhy`\n",
    "   - Docs: https://py-why.github.io/dowhy/\n",
    "   - Features: Causal graphs, identification, refutation tests\n",
    "\n",
    "5. **CausalPy**\n",
    "   - Install: `pip install causalpy`\n",
    "   - Docs: https://github.com/pymc-labs/CausalPy\n",
    "   - Features: Bayesian causal inference, synthetic controls\n",
    "\n",
    "---\n",
    "\n",
    "### Essential Readings for Double Machine Learning\n",
    "\n",
    "#### Foundational Papers\n",
    "1. Chernozhukov et al. (2018) — “Double/debiased machine learning for treatment and structural parameters”  \n",
    "   - The original DML paper, essential reading  \n",
    "   - https://arxiv.org/abs/1608.00060\n",
    "\n",
    "2. Athey & Imbens (2019) — “Machine Learning Methods That Economists Should Know About”  \n",
    "   - Excellent overview of ML in causal inference  \n",
    "   - https://arxiv.org/abs/1903.10075\n",
    "\n",
    "3. Belloni et al. (2014) — “Inference on Treatment Effects after Selection among High-Dimensional Controls”  \n",
    "   - Foundation for using LASSO in causal inference  \n",
    "   - https://arxiv.org/abs/1201.0224\n",
    "\n",
    "#### Practical Guides\n",
    "4. “User Guide for DoubleML”  \n",
    "   - Step-by-step implementation guide  \n",
    "   - https://docs.doubleml.org/stable/guide/guide.html\n",
    "\n",
    "5. “Introduction to Double Machine Learning” (DoubleML Tutorial)  \n",
    "   - Hands-on Python tutorial  \n",
    "   - https://docs.doubleml.org/stable/intro/intro.html\n",
    "\n",
    "#### Advanced Topics\n",
    "6. Chernozhukov et al. (2022) — “Generic Machine Learning Inference on Heterogeneous Treatment Effects”  \n",
    "   - Extension to heterogeneous effects  \n",
    "   - https://arxiv.org/abs/1712.04802\n",
    "\n",
    "7. Syrgkanis et al. (2019) — “Machine Learning Estimation of Heterogeneous Treatment Effects”  \n",
    "   - EconML paper with practical algorithms  \n",
    "   - https://arxiv.org/abs/1903.00140\n",
    "\n",
    "#### Online Courses\n",
    "8. “Machine Learning and Causal Inference” — Susan Athey (Stanford)  \n",
    "   - Comprehensive course on ML + Causality\n",
    "\n",
    "9. “Modern Topics in Causal Inference” — Various lectures on YouTube  \n",
    "   - Search for talks by Chernozhukov, Athey, Imbens\n",
    "\n",
    "#### Textbooks\n",
    "10. “Causal Inference: The Mixtape” by Scott Cunningham  \n",
    "    - Free online book with DML chapter  \n",
    "    - https://mixtape.scunning.com/\n",
    "\n",
    "11. “The Effect” by Nick Huntington-Klein  \n",
    "    - Modern causal inference with code examples  \n",
    "    - https://theeffectbook.net/\n"
   ]
  },
  {
   "cell_type": "markdown",
   "id": "f8400dea-6d55-4231-80d4-bcf6a6fa629c",
   "metadata": {},
   "source": [
    "## 14. Further Exploration: Heterogeneous Effects (Advanced)\n",
    "\n",
    "For those interested in diving deeper, here's how to explore heterogeneous treatment effects:\n",
    "1. BY PRE-TEST SCORES:\n",
    "   - Split sample by median pre-test score\n",
    "   - Run DML separately for high/low performers\n",
    "   - Compare if treatment helps one group more\n",
    "\n",
    "2. BY DEMOGRAPHICS:\n",
    "   - Analyze effects by gender, race, or income\n",
    "   - Check if program has equitable impacts\n",
    "   - Important for policy recommendations\n",
    "\n",
    "3. BY GEOGRAPHY:\n",
    "   - Urban vs rural effects\n",
    "   - Distance to college effects\n",
    "   - Regional variation in program impact\n"
   ]
  },
  {
   "cell_type": "code",
   "execution_count": null,
   "id": "f4e30612-5a50-4a52-a761-1feb4287e048",
   "metadata": {},
   "outputs": [],
   "source": []
  }
 ],
 "metadata": {
  "kernelspec": {
   "display_name": "Python 3 (ipykernel)",
   "language": "python",
   "name": "python3"
  },
  "language_info": {
   "codemirror_mode": {
    "name": "ipython",
    "version": 3
   },
   "file_extension": ".py",
   "mimetype": "text/x-python",
   "name": "python",
   "nbconvert_exporter": "python",
   "pygments_lexer": "ipython3",
   "version": "3.12.11"
  }
 },
 "nbformat": 4,
 "nbformat_minor": 5
}
